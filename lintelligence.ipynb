{
 "cells": [
  {
   "cell_type": "markdown",
   "id": "4e497702",
   "metadata": {
    "papermill": {
     "duration": 0.008685,
     "end_time": "2025-04-20T17:19:27.684651",
     "exception": false,
     "start_time": "2025-04-20T17:19:27.675966",
     "status": "completed"
    },
    "tags": []
   },
   "source": [
    "# Project Title: Lintelligence\n",
    "*Gemini-Powered Source Code Vulnerability Analysis Tool* (not yet a tool)"
   ]
  },
  {
   "cell_type": "markdown",
   "id": "59f83adf",
   "metadata": {
    "papermill": {
     "duration": 0.006953,
     "end_time": "2025-04-20T17:19:27.699286",
     "exception": false,
     "start_time": "2025-04-20T17:19:27.692333",
     "status": "completed"
    },
    "tags": []
   },
   "source": [
    "## Project Summary:\n",
    "\n",
    "This notebook has been prepared to practice and demonstrate course material from Google's 5-Day Intensive Gen AI Course that took place between March 31 - April 4 2025.\n",
    "\n",
    "This notebook compares evaluation of two approaches implemented.\n",
    "1) Few-shot prompting.\n",
    "2) Retrieval-augmented generation (RAG).\n",
    "\n",
    "\n",
    "## Content\n",
    "To demonstrate Linteligence's way of source code for security vulnerabilities; this notebook shows how to:\n",
    "* Connect to Gemini via Google’s API ( google-genai ).\n",
    "* Implement few shot prompting and analyze given code.\n",
    "* Load a dataset: CVEFixes ( https://www.kaggle.com/datasets/girish17019/cvefixes-vulnerable-and-fixed-code  ) that contains vulnerable and fixed code examples.\n",
    "* Embed this dataset into a ChromaDB vector store.\n",
    "* Create a RAG-powered code analyzer function that compares input code with known vulnerable examples.\n",
    "* Evaluate and compare performance of few-shot prompting and the RAG-powered code analyzer.\n",
    "\n",
    "## Results:\n",
    "After running the tests a few times, for both approaches accuracy value is 50%.\n",
    "\n",
    "## Comments & Future Work\n",
    "I was (naively) expecting the RAG approach to perform better than this but it looks like there is a problem with my way of implementing it. As a future work, I plan to troubleshoot what could have increased the accuracy. Feel free to try with other models.\n",
    "\n",
    "It was fun and educative participating in this course and playing around with Gemine's API.\n",
    "Many thanks to each organizer contributed to make this happen."
   ]
  },
  {
   "cell_type": "markdown",
   "id": "acbcf7fd",
   "metadata": {
    "papermill": {
     "duration": 0.006934,
     "end_time": "2025-04-20T17:19:27.713466",
     "exception": false,
     "start_time": "2025-04-20T17:19:27.706532",
     "status": "completed"
    },
    "tags": []
   },
   "source": [
    "# Project Implementation\n",
    "## Setting up Requirements\n",
    "Install required packages:"
   ]
  },
  {
   "cell_type": "code",
   "execution_count": 1,
   "id": "a6cc50d3",
   "metadata": {
    "_cell_guid": "b1076dfc-b9ad-4769-8c92-a6c4dae69d19",
    "_uuid": "8f2839f25d086af736a60e9eeb907d3b93b6e0e5",
    "execution": {
     "iopub.execute_input": "2025-04-20T17:19:27.728886Z",
     "iopub.status.busy": "2025-04-20T17:19:27.728517Z",
     "iopub.status.idle": "2025-04-20T17:20:09.147567Z",
     "shell.execute_reply": "2025-04-20T17:20:09.146551Z"
    },
    "papermill": {
     "duration": 41.428814,
     "end_time": "2025-04-20T17:20:09.149323",
     "exception": false,
     "start_time": "2025-04-20T17:19:27.720509",
     "status": "completed"
    },
    "tags": []
   },
   "outputs": [
    {
     "name": "stdout",
     "output_type": "stream",
     "text": [
      "\u001b[2K     \u001b[90m━━━━━━━━━━━━━━━━━━━━━━━━━━━━━━━━━━━━━━━━\u001b[0m \u001b[32m67.3/67.3 kB\u001b[0m \u001b[31m3.9 MB/s\u001b[0m eta \u001b[36m0:00:00\u001b[0m\r\n",
      "\u001b[?25h  Installing build dependencies ... \u001b[?25l\u001b[?25hdone\r\n",
      "  Getting requirements to build wheel ... \u001b[?25l\u001b[?25hdone\r\n",
      "  Preparing metadata (pyproject.toml) ... \u001b[?25l\u001b[?25hdone\r\n",
      "\u001b[2K   \u001b[90m━━━━━━━━━━━━━━━━━━━━━━━━━━━━━━━━━━━━━━━━\u001b[0m \u001b[32m144.7/144.7 kB\u001b[0m \u001b[31m7.1 MB/s\u001b[0m eta \u001b[36m0:00:00\u001b[0m\r\n",
      "\u001b[2K   \u001b[90m━━━━━━━━━━━━━━━━━━━━━━━━━━━━━━━━━━━━━━━━\u001b[0m \u001b[32m611.1/611.1 kB\u001b[0m \u001b[31m19.9 MB/s\u001b[0m eta \u001b[36m0:00:00\u001b[0m\r\n",
      "\u001b[2K   \u001b[90m━━━━━━━━━━━━━━━━━━━━━━━━━━━━━━━━━━━━━━━━\u001b[0m \u001b[32m2.4/2.4 MB\u001b[0m \u001b[31m53.5 MB/s\u001b[0m eta \u001b[36m0:00:00\u001b[0m\r\n",
      "\u001b[2K   \u001b[90m━━━━━━━━━━━━━━━━━━━━━━━━━━━━━━━━━━━━━━━━\u001b[0m \u001b[32m100.9/100.9 kB\u001b[0m \u001b[31m5.7 MB/s\u001b[0m eta \u001b[36m0:00:00\u001b[0m\r\n",
      "\u001b[2K   \u001b[90m━━━━━━━━━━━━━━━━━━━━━━━━━━━━━━━━━━━━━━━━\u001b[0m \u001b[32m284.2/284.2 kB\u001b[0m \u001b[31m14.2 MB/s\u001b[0m eta \u001b[36m0:00:00\u001b[0m\r\n",
      "\u001b[2K   \u001b[90m━━━━━━━━━━━━━━━━━━━━━━━━━━━━━━━━━━━━━━━━\u001b[0m \u001b[32m95.2/95.2 kB\u001b[0m \u001b[31m4.6 MB/s\u001b[0m eta \u001b[36m0:00:00\u001b[0m\r\n",
      "\u001b[2K   \u001b[90m━━━━━━━━━━━━━━━━━━━━━━━━━━━━━━━━━━━━━━━━\u001b[0m \u001b[32m2.0/2.0 MB\u001b[0m \u001b[31m53.8 MB/s\u001b[0m eta \u001b[36m0:00:00\u001b[0m\r\n",
      "\u001b[2K   \u001b[90m━━━━━━━━━━━━━━━━━━━━━━━━━━━━━━━━━━━━━━━━\u001b[0m \u001b[32m101.6/101.6 kB\u001b[0m \u001b[31m5.9 MB/s\u001b[0m eta \u001b[36m0:00:00\u001b[0m\r\n",
      "\u001b[2K   \u001b[90m━━━━━━━━━━━━━━━━━━━━━━━━━━━━━━━━━━━━━━━━\u001b[0m \u001b[32m16.0/16.0 MB\u001b[0m \u001b[31m82.1 MB/s\u001b[0m eta \u001b[36m0:00:00\u001b[0m\r\n",
      "\u001b[2K   \u001b[90m━━━━━━━━━━━━━━━━━━━━━━━━━━━━━━━━━━━━━━━━\u001b[0m \u001b[32m55.9/55.9 kB\u001b[0m \u001b[31m3.2 MB/s\u001b[0m eta \u001b[36m0:00:00\u001b[0m\r\n",
      "\u001b[2K   \u001b[90m━━━━━━━━━━━━━━━━━━━━━━━━━━━━━━━━━━━━━━━━\u001b[0m \u001b[32m188.4/188.4 kB\u001b[0m \u001b[31m9.7 MB/s\u001b[0m eta \u001b[36m0:00:00\u001b[0m\r\n",
      "\u001b[2K   \u001b[90m━━━━━━━━━━━━━━━━━━━━━━━━━━━━━━━━━━━━━━━━\u001b[0m \u001b[32m65.3/65.3 kB\u001b[0m \u001b[31m3.5 MB/s\u001b[0m eta \u001b[36m0:00:00\u001b[0m\r\n",
      "\u001b[2K   \u001b[90m━━━━━━━━━━━━━━━━━━━━━━━━━━━━━━━━━━━━━━━━\u001b[0m \u001b[32m119.0/119.0 kB\u001b[0m \u001b[31m7.3 MB/s\u001b[0m eta \u001b[36m0:00:00\u001b[0m\r\n",
      "\u001b[2K   \u001b[90m━━━━━━━━━━━━━━━━━━━━━━━━━━━━━━━━━━━━━━━━\u001b[0m \u001b[32m89.1/89.1 kB\u001b[0m \u001b[31m5.0 MB/s\u001b[0m eta \u001b[36m0:00:00\u001b[0m\r\n",
      "\u001b[2K   \u001b[90m━━━━━━━━━━━━━━━━━━━━━━━━━━━━━━━━━━━━━━━━\u001b[0m \u001b[32m62.5/62.5 kB\u001b[0m \u001b[31m3.0 MB/s\u001b[0m eta \u001b[36m0:00:00\u001b[0m\r\n",
      "\u001b[2K   \u001b[90m━━━━━━━━━━━━━━━━━━━━━━━━━━━━━━━━━━━━━━━━\u001b[0m \u001b[32m459.8/459.8 kB\u001b[0m \u001b[31m18.2 MB/s\u001b[0m eta \u001b[36m0:00:00\u001b[0m\r\n",
      "\u001b[2K   \u001b[90m━━━━━━━━━━━━━━━━━━━━━━━━━━━━━━━━━━━━━━━━\u001b[0m \u001b[32m319.7/319.7 kB\u001b[0m \u001b[31m14.7 MB/s\u001b[0m eta \u001b[36m0:00:00\u001b[0m\r\n",
      "\u001b[2K   \u001b[90m━━━━━━━━━━━━━━━━━━━━━━━━━━━━━━━━━━━━━━━━\u001b[0m \u001b[32m72.0/72.0 kB\u001b[0m \u001b[31m4.0 MB/s\u001b[0m eta \u001b[36m0:00:00\u001b[0m\r\n",
      "\u001b[2K   \u001b[90m━━━━━━━━━━━━━━━━━━━━━━━━━━━━━━━━━━━━━━━━\u001b[0m \u001b[32m4.0/4.0 MB\u001b[0m \u001b[31m72.1 MB/s\u001b[0m eta \u001b[36m0:00:00\u001b[0m\r\n",
      "\u001b[2K   \u001b[90m━━━━━━━━━━━━━━━━━━━━━━━━━━━━━━━━━━━━━━━━\u001b[0m \u001b[32m454.8/454.8 kB\u001b[0m \u001b[31m24.6 MB/s\u001b[0m eta \u001b[36m0:00:00\u001b[0m\r\n",
      "\u001b[2K   \u001b[90m━━━━━━━━━━━━━━━━━━━━━━━━━━━━━━━━━━━━━━━━\u001b[0m \u001b[32m46.0/46.0 kB\u001b[0m \u001b[31m2.6 MB/s\u001b[0m eta \u001b[36m0:00:00\u001b[0m\r\n",
      "\u001b[2K   \u001b[90m━━━━━━━━━━━━━━━━━━━━━━━━━━━━━━━━━━━━━━━━\u001b[0m \u001b[32m86.8/86.8 kB\u001b[0m \u001b[31m4.5 MB/s\u001b[0m eta \u001b[36m0:00:00\u001b[0m\r\n",
      "\u001b[?25h  Building wheel for pypika (pyproject.toml) ... \u001b[?25l\u001b[?25hdone\r\n",
      "\u001b[31mERROR: pip's dependency resolver does not currently take into account all the packages that are installed. This behaviour is the source of the following dependency conflicts.\r\n",
      "jupyterlab-lsp 3.10.2 requires jupyterlab<4.0.0a0,>=3.1.0, which is not installed.\r\n",
      "google-cloud-translate 3.12.1 requires protobuf!=3.20.0,!=3.20.1,!=4.21.0,!=4.21.1,!=4.21.2,!=4.21.3,!=4.21.4,!=4.21.5,<5.0.0dev,>=3.19.5, but you have protobuf 5.29.4 which is incompatible.\r\n",
      "google-api-core 1.34.1 requires protobuf!=3.20.0,!=3.20.1,!=4.21.0,!=4.21.1,!=4.21.2,!=4.21.3,!=4.21.4,!=4.21.5,<4.0.0dev,>=3.19.5, but you have protobuf 5.29.4 which is incompatible.\r\n",
      "google-spark-connect 0.5.2 requires google-api-core>=2.19.1, but you have google-api-core 1.34.1 which is incompatible.\r\n",
      "pandas-gbq 0.26.1 requires google-api-core<3.0.0dev,>=2.10.2, but you have google-api-core 1.34.1 which is incompatible.\r\n",
      "bigframes 1.36.0 requires rich<14,>=12.4.4, but you have rich 14.0.0 which is incompatible.\r\n",
      "google-cloud-bigtable 2.28.1 requires google-api-core[grpc]<3.0.0dev,>=2.16.0, but you have google-api-core 1.34.1 which is incompatible.\u001b[0m\u001b[31m\r\n",
      "\u001b[0m"
     ]
    }
   ],
   "source": [
    "!pip uninstall -qqy jupyterlab # Remove unused conflicting packages\n",
    "!pip install -qU \"google-genai==1.7.0\" \"chromadb==0.6.3\""
   ]
  },
  {
   "cell_type": "code",
   "execution_count": 2,
   "id": "12ad812b",
   "metadata": {
    "execution": {
     "iopub.execute_input": "2025-04-20T17:20:09.169708Z",
     "iopub.status.busy": "2025-04-20T17:20:09.169347Z",
     "iopub.status.idle": "2025-04-20T17:20:10.611933Z",
     "shell.execute_reply": "2025-04-20T17:20:10.611126Z"
    },
    "papermill": {
     "duration": 1.455192,
     "end_time": "2025-04-20T17:20:10.613581",
     "exception": false,
     "start_time": "2025-04-20T17:20:09.158389",
     "status": "completed"
    },
    "tags": []
   },
   "outputs": [],
   "source": [
    "# Import required modules for Google GenAI\n",
    "from google import genai\n",
    "from google.genai import types\n",
    "from google.api_core import retry\n",
    "\n",
    "from IPython.display import HTML, Markdown, display"
   ]
  },
  {
   "cell_type": "code",
   "execution_count": 3,
   "id": "0784326e",
   "metadata": {
    "execution": {
     "iopub.execute_input": "2025-04-20T17:20:10.632687Z",
     "iopub.status.busy": "2025-04-20T17:20:10.632228Z",
     "iopub.status.idle": "2025-04-20T17:20:11.312661Z",
     "shell.execute_reply": "2025-04-20T17:20:11.311880Z"
    },
    "papermill": {
     "duration": 0.69191,
     "end_time": "2025-04-20T17:20:11.314385",
     "exception": false,
     "start_time": "2025-04-20T17:20:10.622475",
     "status": "completed"
    },
    "tags": []
   },
   "outputs": [],
   "source": [
    "# Import ChromaDB for vector-based document storage and retrieval\n",
    "from tqdm import tqdm #for eval\n",
    "import json\n",
    "\n",
    "import chromadb\n",
    "from chromadb import Documents, EmbeddingFunction, Embeddings\n",
    "from chromadb.config import Settings"
   ]
  },
  {
   "cell_type": "code",
   "execution_count": 4,
   "id": "a364b2d3",
   "metadata": {
    "execution": {
     "iopub.execute_input": "2025-04-20T17:20:11.334404Z",
     "iopub.status.busy": "2025-04-20T17:20:11.333541Z",
     "iopub.status.idle": "2025-04-20T17:20:13.165341Z",
     "shell.execute_reply": "2025-04-20T17:20:13.164309Z"
    },
    "papermill": {
     "duration": 1.843534,
     "end_time": "2025-04-20T17:20:13.166987",
     "exception": false,
     "start_time": "2025-04-20T17:20:11.323453",
     "status": "completed"
    },
    "tags": []
   },
   "outputs": [],
   "source": [
    "# Standard library and data manipulation imports\n",
    "import os\n",
    "import pandas as pd\n",
    "import numpy as np"
   ]
  },
  {
   "cell_type": "code",
   "execution_count": 5,
   "id": "3d7c063d",
   "metadata": {
    "execution": {
     "iopub.execute_input": "2025-04-20T17:20:13.186032Z",
     "iopub.status.busy": "2025-04-20T17:20:13.185487Z",
     "iopub.status.idle": "2025-04-20T17:20:13.190432Z",
     "shell.execute_reply": "2025-04-20T17:20:13.189707Z"
    },
    "papermill": {
     "duration": 0.015927,
     "end_time": "2025-04-20T17:20:13.191797",
     "exception": false,
     "start_time": "2025-04-20T17:20:13.175870",
     "status": "completed"
    },
    "tags": []
   },
   "outputs": [],
   "source": [
    "# Define a helper to retry when per-minute quota is reached.\n",
    "is_retriable = lambda e: (isinstance(e, genai.errors.APIError) and e.code in {429, 503})\n",
    "\n",
    "genai.models.Models.generate_content = retry.Retry(\n",
    "    predicate=is_retriable)(genai.models.Models.generate_content)"
   ]
  },
  {
   "cell_type": "markdown",
   "id": "62f1d128",
   "metadata": {
    "papermill": {
     "duration": 0.008748,
     "end_time": "2025-04-20T17:20:13.209731",
     "exception": false,
     "start_time": "2025-04-20T17:20:13.200983",
     "status": "completed"
    },
    "tags": []
   },
   "source": [
    "Set up your API key\n",
    "\n",
    "To run the following cell, your API key must be stored it in a Kaggle secret named GOOGLE_API_KEY.\n",
    "\n",
    "If you don't already have an API key, you can grab one from AI Studio. You can find detailed instructions in the docs.\n",
    "\n",
    "To make the key available through Kaggle secrets, choose Secrets from the Add-ons menu and follow the instructions to add your key or enable it for this notebook."
   ]
  },
  {
   "cell_type": "code",
   "execution_count": 6,
   "id": "c0d84222",
   "metadata": {
    "execution": {
     "iopub.execute_input": "2025-04-20T17:20:13.228978Z",
     "iopub.status.busy": "2025-04-20T17:20:13.228259Z",
     "iopub.status.idle": "2025-04-20T17:20:13.739596Z",
     "shell.execute_reply": "2025-04-20T17:20:13.738611Z"
    },
    "papermill": {
     "duration": 0.522793,
     "end_time": "2025-04-20T17:20:13.741569",
     "exception": false,
     "start_time": "2025-04-20T17:20:13.218776",
     "status": "completed"
    },
    "tags": []
   },
   "outputs": [],
   "source": [
    "from kaggle_secrets import UserSecretsClient\n",
    "\n",
    "GOOGLE_API_KEY = UserSecretsClient().get_secret(\"GOOGLE_API_KEY\")"
   ]
  },
  {
   "cell_type": "code",
   "execution_count": 7,
   "id": "0c982645",
   "metadata": {
    "execution": {
     "iopub.execute_input": "2025-04-20T17:20:13.768473Z",
     "iopub.status.busy": "2025-04-20T17:20:13.768168Z",
     "iopub.status.idle": "2025-04-20T17:20:13.772715Z",
     "shell.execute_reply": "2025-04-20T17:20:13.772056Z"
    },
    "papermill": {
     "duration": 0.017367,
     "end_time": "2025-04-20T17:20:13.774581",
     "exception": false,
     "start_time": "2025-04-20T17:20:13.757214",
     "status": "completed"
    },
    "tags": []
   },
   "outputs": [],
   "source": [
    "# Define the system prompt\n",
    "\n",
    "SYSTEM_PROMPT = \"\"\"\n",
    "You are Lintelligence, an AI security assistant for developers.\n",
    "\n",
    "Your task is to analyze the provided code snippet for real security vulnerabilities.\n",
    "\n",
    "Only and only return an issue if:\n",
    "- The vulnerability is clearly present in the code\n",
    "- It is not mitigated by common secure coding practices (e.g., parameterized queries, input validation)\n",
    "\n",
    "If the code is already secure, respond clearly with:\n",
    "{\n",
    "  \"vulnerability\": null,\n",
    "  \"message\": \"No security issues found.\"\n",
    "}\n",
    "\n",
    "When a vulnerability exists, respond in this exact JSON format:\n",
    "{\n",
    "  \"vulnerability\": \"<Short name, like 'SQL Injection'>\",\"severity\": \"<Low | Medium | High | Critical>\",\"explanation\": \"<Describe the issue and where it occurs>\",\"why_it_matters\": \"<Explain real-world risk>\",\"suggested_fix\": \"<Rewritten secure version of the code>\",\"fix_explanation\": \"<Why the fix works>\"\n",
    "}\n",
    "\n",
    "Do not speculate. Do not suggest changes if the code is already secure.\n",
    "\n",
    "Only respond with valid JSON!\n",
    "\"\"\""
   ]
  },
  {
   "cell_type": "code",
   "execution_count": 8,
   "id": "39d022f9",
   "metadata": {
    "execution": {
     "iopub.execute_input": "2025-04-20T17:20:13.806446Z",
     "iopub.status.busy": "2025-04-20T17:20:13.806104Z",
     "iopub.status.idle": "2025-04-20T17:20:13.815385Z",
     "shell.execute_reply": "2025-04-20T17:20:13.814387Z"
    },
    "papermill": {
     "duration": 0.029162,
     "end_time": "2025-04-20T17:20:13.817234",
     "exception": false,
     "start_time": "2025-04-20T17:20:13.788072",
     "status": "completed"
    },
    "tags": []
   },
   "outputs": [],
   "source": [
    "# Helper functions that we will use to clean output, it doesn't return JSON as expected.\n",
    "import re\n",
    "\n",
    "def safe_json_parse(raw_response_text):\n",
    "    \"\"\"\n",
    "    Clean and parse Gemini output wrapped in markdown and malformed escape sequences.\n",
    "    Returns a parsed JSON object or fallback.\n",
    "    \"\"\"\n",
    "\n",
    "    # print(f\"Raw_response_text: {raw_response_text}\")\n",
    "\n",
    "    # Step 1: Remove code block wrappers like ```json or ```\n",
    "    raw_text = re.sub(r\"^```[a-zA-Z]*\\s*\", \"\", raw_response_text.strip(), flags=re.IGNORECASE)\n",
    "    raw_text = re.sub(r\"\\s*```\", \"\", raw_text)\n",
    "    \n",
    "    if raw_text.startswith(\"```\") or raw_text.endswith(\"```\"):\n",
    "        lines = raw_text.splitlines()\n",
    "        lines = [line for line in lines if not line.strip().startswith(\"```\")]\n",
    "        cleaned_text = \"\\n\".join(lines)\n",
    "    else:\n",
    "        cleaned_text = raw_text\n",
    "\n",
    "\n",
    "    # 2. Truncate newlines inside strings\n",
    "    cleaned_text.replace(\"\\n\", \"\")\n",
    "    cleaned_text.replace(\"```\", \"\")\n",
    "    \n",
    "    # print(f\"Cleaned version: {cleaned_text}\")\n",
    "\n",
    "    try:\n",
    "      return json.loads(cleaned_text)\n",
    "    except Exception as e:\n",
    "      return {\n",
    "          \"error\": f\"Failed to parse JSON: {str(e)}\",\n",
    "          \"raw_response\": raw_text\n",
    "      }\n"
   ]
  },
  {
   "cell_type": "markdown",
   "id": "7d84ecc0",
   "metadata": {
    "papermill": {
     "duration": 0.010437,
     "end_time": "2025-04-20T17:20:13.837480",
     "exception": false,
     "start_time": "2025-04-20T17:20:13.827043",
     "status": "completed"
    },
    "tags": []
   },
   "source": [
    "## Few-Shot Prompting Approach"
   ]
  },
  {
   "cell_type": "code",
   "execution_count": 9,
   "id": "4ee2ca46",
   "metadata": {
    "execution": {
     "iopub.execute_input": "2025-04-20T17:20:13.857107Z",
     "iopub.status.busy": "2025-04-20T17:20:13.856618Z",
     "iopub.status.idle": "2025-04-20T17:20:13.867605Z",
     "shell.execute_reply": "2025-04-20T17:20:13.866761Z"
    },
    "papermill": {
     "duration": 0.022737,
     "end_time": "2025-04-20T17:20:13.868984",
     "exception": false,
     "start_time": "2025-04-20T17:20:13.846247",
     "status": "completed"
    },
    "tags": []
   },
   "outputs": [],
   "source": [
    "# Add few-shot examples to improve AI model output consistency\n",
    "\n",
    "FEW_SHOT_EXAMPLES = \"\"\"\n",
    "\n",
    "Below are examples of vulnerable code and how you should analyze them.\n",
    "---\n",
    "Example 1:\n",
    "Input Code Snippet:\n",
    "search = request.args.get(\"q\")\n",
    "query = \"SELECT * FROM users WHERE name = '\" + search + \"'\"\n",
    "cursor.execute(query)\n",
    "Output:\n",
    "{\n",
    "  \"vulnerability\": \"SQL Injection\",\n",
    "  \"severity\": \"Critical\",\n",
    "  \"explanation\": \"User input is directly concatenated into a SQL query, allowing attackers to inject arbitrary SQL commands.\",\n",
    "  \"why_it_matters\": \"An attacker could bypass authentication or extract sensitive user data from the database.\",\n",
    "  \"suggested_fix\": \"search = request.args.get(\\\"q\\\")\\ncursor.execute(\\\"SELECT * FROM users WHERE name = ?\\\", (search,))\",\n",
    "  \"fix_explanation\": \"Using parameterized queries ensures that user input is treated strictly as data, preventing SQL injection.\"\n",
    "}\n",
    "\n",
    "Example 2:\n",
    "Input Code Snippet:\n",
    "const user = req.query.user;\n",
    "res.send(\"<h1>Hello, \" + user + \"!</h1>\");\n",
    "\n",
    "\n",
    "Output:\n",
    "{\n",
    "  \"vulnerability\": \"Cross-Site Scripting (XSS)\",\n",
    "  \"severity\": \"High\",\n",
    "  \"explanation\": \"Unescaped user input is rendered directly into the HTML response, enabling script injection.\",\n",
    "  \"why_it_matters\": \"An attacker can run arbitrary JavaScript in the browser of other users, potentially stealing cookies or credentials.\",\n",
    "  \"suggested_fix\": \"const user = req.query.user;\\nres.send(\\\"<h1>Hello, \\\" + escapeHtml(user) + \\\"!</h1>\\\");\",\n",
    "  \"fix_explanation\": \"Escaping HTML output neutralizes potentially dangerous characters and prevents execution of malicious scripts.\"\n",
    "}\n",
    "\n",
    "\n",
    "\n",
    "Example 3:\n",
    "Input Code Snippet:\n",
    "user_id = request.args.get(\"id\")\n",
    "user = User.query.get(user_id)\n",
    "\n",
    "Output:\n",
    "{\n",
    "  \"vulnerability\": \"Insecure Direct Object Reference (IDOR)\",\n",
    "  \"severity\": \"High\",\n",
    "  \"explanation\": \"There is no access control check to confirm the user has permission to access the specified ID.\",\n",
    "  \"why_it_matters\": \"Attackers can modify the ID parameter to access data of other users, such as personal or financial information.\",\n",
    "  \"suggested_fix\": \"user_id = request.args.get(\\\"id\\\")\\nif user_id != current_user.id:\\n    abort(403)\\nuser = User.query.get(user_id)\",\n",
    "  \"fix_explanation\": \"Verifying that the requested ID matches the authenticated user’s ID ensures proper access control.\"\n",
    "}\n",
    "\n",
    "\n",
    "\n",
    "Example 4:\n",
    "Input Code Snippet:\n",
    "import os\n",
    "filename = request.args.get(\"file\")\n",
    "os.system(\"cat \" + filename)\n",
    "\n",
    "Output:\n",
    "{\n",
    "  \"vulnerability\": \"Command Injection\",\n",
    "  \"severity\": \"Critical\",\n",
    "  \"explanation\": \"User input is passed directly to a system shell command without validation or sanitization.\",\n",
    "  \"why_it_matters\": \"An attacker could execute arbitrary system commands on the host server.\",\n",
    "  \"suggested_fix\": \"import subprocess\\nfilename = request.args.get(\\\"file\\\")\\nsubprocess.run([\\\"cat\\\", filename], check=True)\",\n",
    "  \"fix_explanation\": \"Using a subprocess with argument list avoids shell interpretation of input, preventing injection.\"\n",
    "}\n",
    "\n",
    "\n",
    "\n",
    "Example 5:\n",
    "Input Code Snippet:\n",
    "import pickle\n",
    "data = request.data\n",
    "obj = pickle.loads(data)\n",
    "\n",
    "Output:\n",
    "{\n",
    "  \"vulnerability\": \"Insecure Deserialization\",\n",
    "  \"severity\": \"Critical\",\n",
    "  \"explanation\": \"Pickle can execute arbitrary code during deserialization, and it is being used on untrusted input.\",\n",
    "  \"why_it_matters\": \"An attacker could craft a payload that executes arbitrary code on the server.\",\n",
    "  \"suggested_fix\": \"import json\\nobj = json.loads(request.data)\",\n",
    "  \"fix_explanation\": \"Switching to JSON ensures that the deserialization is safe and limited to basic data types.\"\n",
    "}\n",
    "\n",
    "\n",
    "\n",
    "Example 6:\n",
    "Input Code Snippet:\n",
    "# Code\n",
    "def login():\n",
    "    user = User.get(request.form[\"username\"])\n",
    "    if user and user.check_password(request.form[\"password\"]):\n",
    "        login_user(user)\n",
    "\n",
    "\n",
    "Output:\n",
    "{\n",
    "  \"vulnerability\": \"Broken Authentication (No Rate Limiting)\",\n",
    "  \"severity\": \"High\",\n",
    "  \"explanation\": \"There is no limit on the number of login attempts, allowing brute-force attacks.\",\n",
    "  \"why_it_matters\": \"An attacker could automate login attempts and compromise accounts using credential stuffing.\",\n",
    "  \"suggested_fix\": \"Implement a rate limiter or lockout mechanism after several failed login attempts.\",\n",
    "  \"fix_explanation\": \"Rate limiting prevents automated brute-force attacks by slowing or blocking repeated login attempts.\"\n",
    "}\n",
    "\n",
    "\n",
    "\n",
    "Example 7:\n",
    "Input Code Snippet:\n",
    "api_key = \"sk_test_1234567890abcdef\"\n",
    "\n",
    "Output:\n",
    "{\n",
    "  \"vulnerability\": \"Hardcoded Secret\",\n",
    "  \"severity\": \"Medium\",\n",
    "  \"explanation\": \"A sensitive API key is hardcoded directly into the source code.\",\n",
    "  \"why_it_matters\": \"If the code is leaked or shared, the key can be used by attackers to abuse the associated service.\",\n",
    "  \"suggested_fix\": \"Store secrets in environment variables and load them using a secure method.\",\n",
    "  \"fix_explanation\": \"Environment variables keep secrets out of source control and limit exposure in case of leaks.\"\n",
    "}\n",
    "\n",
    "\n",
    "\n",
    "Example 8:\n",
    "Input Code Snippet:\n",
    "url = request.args.get(\"url\")\n",
    "requests.get(url)\n",
    "\n",
    "Output:\n",
    "{\n",
    "  \"vulnerability\": \"Server-Side Request Forgery (SSRF)\",\n",
    "  \"severity\": \"Critical\",\n",
    "  \"explanation\": \"User input is used to make internal HTTP requests without validation.\",\n",
    "  \"why_it_matters\": \"Attackers can exploit SSRF to access internal services or metadata APIs (e.g., AWS instance metadata).\",\n",
    "  \"suggested_fix\": \"Validate that the input URL is in an allowed list of domains before making the request.\",\n",
    "  \"fix_explanation\": \"Restricting requests to trusted domains prevents attackers from reaching internal resources.\"\n",
    "}\n",
    "\n",
    "\n",
    "Example 9:\n",
    "Input Code Snippet:\n",
    "@app.route(\"/debug\")\n",
    "def debug():\n",
    "    raise Exception(\"Test\")\n",
    "\n",
    "Output:\n",
    "{\n",
    "  \"vulnerability\": \"Information Disclosure (Stack Trace)\",\n",
    "  \"severity\": \"Medium\",\n",
    "  \"explanation\": \"The endpoint intentionally throws an exception that may expose stack traces in production.\",\n",
    "  \"why_it_matters\": \"Exposing stack traces can reveal implementation details useful to attackers.\",\n",
    "  \"suggested_fix\": \"Only show detailed error messages in development mode; use generic messages in production.\",\n",
    "  \"fix_explanation\": \"Hiding stack traces in production prevents attackers from gaining insight into the backend structure.\"\n",
    "}\n",
    "\n",
    "\n",
    "Example 10:\n",
    "Input Code Snippet:\n",
    "@app.route(\"/update-email\", methods=[\"POST\"])\n",
    "def update_email():\n",
    "    current_user.email = request.form[\"email\"]\n",
    "    db.session.commit()\n",
    "\n",
    "Output:\n",
    "{\n",
    "  \"vulnerability\": \"Cross-Site Request Forgery (CSRF)\",\n",
    "  \"severity\": \"High\",\n",
    "  \"explanation\": \"The endpoint processes state-changing actions via POST without verifying a CSRF token.\",\n",
    "  \"why_it_matters\": \"An attacker could trick a logged-in user into submitting a malicious request unknowingly.\",\n",
    "  \"suggested_fix\": \"@app.route(\\\"/update-email\\\", methods=[\\\"POST\\\"])\\n@csrf_protect\\ndef update_email(): ...\",\n",
    "  \"fix_explanation\": \"Using CSRF tokens ensures that the request was intentionally initiated by the user.\"\n",
    "}\n",
    "\"\"\""
   ]
  },
  {
   "cell_type": "code",
   "execution_count": 10,
   "id": "24e0dcb6",
   "metadata": {
    "execution": {
     "iopub.execute_input": "2025-04-20T17:20:13.889079Z",
     "iopub.status.busy": "2025-04-20T17:20:13.888344Z",
     "iopub.status.idle": "2025-04-20T17:20:14.258478Z",
     "shell.execute_reply": "2025-04-20T17:20:14.257524Z"
    },
    "papermill": {
     "duration": 0.38212,
     "end_time": "2025-04-20T17:20:14.260219",
     "exception": false,
     "start_time": "2025-04-20T17:20:13.878099",
     "status": "completed"
    },
    "tags": []
   },
   "outputs": [],
   "source": [
    "# Initialize the Google GenAI client with API key\n",
    "\n",
    "client = genai.Client(api_key=GOOGLE_API_KEY)"
   ]
  },
  {
   "cell_type": "code",
   "execution_count": 11,
   "id": "dcad1a66",
   "metadata": {
    "execution": {
     "iopub.execute_input": "2025-04-20T17:20:14.279996Z",
     "iopub.status.busy": "2025-04-20T17:20:14.279650Z",
     "iopub.status.idle": "2025-04-20T17:20:14.285310Z",
     "shell.execute_reply": "2025-04-20T17:20:14.284452Z"
    },
    "papermill": {
     "duration": 0.017097,
     "end_time": "2025-04-20T17:20:14.286654",
     "exception": false,
     "start_time": "2025-04-20T17:20:14.269557",
     "status": "completed"
    },
    "tags": []
   },
   "outputs": [],
   "source": [
    "# Function to analyze code using Gemine (temp=0 to decrease false-positives)\n",
    "\n",
    "def analyze_code(code_snippet: str) -> str:\n",
    "  \"\"\"Analyze given code\"\"\"\n",
    "  #config = types.GenerateContentConfig(temperature=0.0, system_instruction=SYSTEM_PROMPT)\n",
    "  config = types.GenerateContentConfig(temperature=0.0, system_instruction=SYSTEM_PROMPT+FEW_SHOT_EXAMPLES)\n",
    "  prompt = \"Here is a code snippet:\"\n",
    "  raw_response = client.models.generate_content(\n",
    "      model='gemini-2.0-flash',\n",
    "      config=config,\n",
    "      contents=prompt + code_snippet,\n",
    "  )\n",
    "\n",
    "  # raw_text = raw_response.text.strip()\n",
    "  # if raw_text.startswith(\"```\"):\n",
    "  #     lines = raw_text.splitlines()\n",
    "  #     lines = [line for line in lines if not line.strip().startswith(\"```\")]\n",
    "  #     cleaned_text = \"\\n\".join(lines)\n",
    "  # else:\n",
    "  #     cleaned_text = raw_text\n",
    "\n",
    "  raw_text = raw_response.text.strip()\n",
    "  cleaned_text = safe_json_parse(raw_text)\n",
    "\n",
    "  return cleaned_text"
   ]
  },
  {
   "cell_type": "markdown",
   "id": "39c147cf",
   "metadata": {
    "papermill": {
     "duration": 0.008714,
     "end_time": "2025-04-20T17:20:14.304564",
     "exception": false,
     "start_time": "2025-04-20T17:20:14.295850",
     "status": "completed"
    },
    "tags": []
   },
   "source": [
    "The following is a utility function to convert json into representable Markdown format"
   ]
  },
  {
   "cell_type": "code",
   "execution_count": 12,
   "id": "27cb9045",
   "metadata": {
    "execution": {
     "iopub.execute_input": "2025-04-20T17:20:14.393301Z",
     "iopub.status.busy": "2025-04-20T17:20:14.392907Z",
     "iopub.status.idle": "2025-04-20T17:20:14.399643Z",
     "shell.execute_reply": "2025-04-20T17:20:14.398767Z"
    },
    "papermill": {
     "duration": 0.018895,
     "end_time": "2025-04-20T17:20:14.401291",
     "exception": false,
     "start_time": "2025-04-20T17:20:14.382396",
     "status": "completed"
    },
    "tags": []
   },
   "outputs": [],
   "source": [
    "def json_to_markdown(vuln_report):\n",
    "#    print(vuln_report)\n",
    "    if not isinstance(vuln_report, dict):\n",
    "        return \"Invalid input: expected a JSON object.\"\n",
    "\n",
    "    if vuln_report.get(\"vulnerability\") is None:\n",
    "        return \"No security issues found in the provided code.\"\n",
    "\n",
    "    return f\"\"\"\n",
    "### 🛡️ Vulnerability: {vuln_report['vulnerability']}\n",
    "\n",
    "### 🚨 Severity: {vuln_report['severity']}\n",
    "\n",
    "---\n",
    "\n",
    "#### ❗ Explanation  \n",
    "{vuln_report['explanation']}\n",
    "\n",
    "---\n",
    "\n",
    "#### 🧠 Impact:\n",
    "{vuln_report['why_it_matters']}\n",
    "\n",
    "---\n",
    "\n",
    "#### ✅ Suggested Fix  \n",
    "{vuln_report['suggested_fix']}\n",
    "\n",
    "---\n",
    "\n",
    "#### 🔍 Fix Explanation  \n",
    "{vuln_report['fix_explanation']}\n",
    "\"\"\"\n"
   ]
  },
  {
   "cell_type": "code",
   "execution_count": 13,
   "id": "392cd22a",
   "metadata": {
    "execution": {
     "iopub.execute_input": "2025-04-20T17:20:14.421272Z",
     "iopub.status.busy": "2025-04-20T17:20:14.420881Z",
     "iopub.status.idle": "2025-04-20T17:20:16.038227Z",
     "shell.execute_reply": "2025-04-20T17:20:16.037374Z"
    },
    "papermill": {
     "duration": 1.629067,
     "end_time": "2025-04-20T17:20:16.039609",
     "exception": false,
     "start_time": "2025-04-20T17:20:14.410542",
     "status": "completed"
    },
    "tags": []
   },
   "outputs": [
    {
     "data": {
      "text/markdown": [
       "\n",
       "### 🛡️ Vulnerability: SQL Injection\n",
       "\n",
       "### 🚨 Severity: Critical\n",
       "\n",
       "---\n",
       "\n",
       "#### ❗ Explanation  \n",
       "User input is directly concatenated into a SQL query, allowing attackers to inject arbitrary SQL commands.\n",
       "\n",
       "---\n",
       "\n",
       "#### 🧠 Impact:\n",
       "An attacker could bypass authentication or extract sensitive user data from the database.\n",
       "\n",
       "---\n",
       "\n",
       "#### ✅ Suggested Fix  \n",
       "search = request.args.get(\"q\")\n",
       "cursor.execute(\"SELECT * FROM users WHERE name = ?\", (search,))\n",
       "\n",
       "---\n",
       "\n",
       "#### 🔍 Fix Explanation  \n",
       "Using parameterized queries ensures that user input is treated strictly as data, preventing SQL injection.\n"
      ],
      "text/plain": [
       "<IPython.core.display.Markdown object>"
      ]
     },
     "execution_count": 13,
     "metadata": {},
     "output_type": "execute_result"
    }
   ],
   "source": [
    "vulnerable_code = \"\"\"\n",
    "search = request.args.get(\"q\")\n",
    "query = \"SELECT * FROM users WHERE name = '\" + search + \"'\"\n",
    "cursor.execute(query)\n",
    "\"\"\"\n",
    "\n",
    "code_snippet = vulnerable_code\n",
    "\n",
    "response = analyze_code(code_snippet)\n",
    "\n",
    "# print(response)\n",
    "Markdown(json_to_markdown(response))"
   ]
  },
  {
   "cell_type": "code",
   "execution_count": 14,
   "id": "17935295",
   "metadata": {
    "execution": {
     "iopub.execute_input": "2025-04-20T17:20:16.059297Z",
     "iopub.status.busy": "2025-04-20T17:20:16.058968Z",
     "iopub.status.idle": "2025-04-20T17:20:16.609204Z",
     "shell.execute_reply": "2025-04-20T17:20:16.608241Z"
    },
    "papermill": {
     "duration": 0.561807,
     "end_time": "2025-04-20T17:20:16.610650",
     "exception": false,
     "start_time": "2025-04-20T17:20:16.048843",
     "status": "completed"
    },
    "tags": []
   },
   "outputs": [
    {
     "data": {
      "text/markdown": [
       "No security issues found in the provided code."
      ],
      "text/plain": [
       "<IPython.core.display.Markdown object>"
      ]
     },
     "execution_count": 14,
     "metadata": {},
     "output_type": "execute_result"
    }
   ],
   "source": [
    "secure_code = \"\"\"\n",
    "search = request.args.get(\"q\")\n",
    "cursor.execute(\"SELECT * FROM users WHERE name = ?\", (search,))\n",
    "\"\"\"\n",
    "code_snippet = secure_code\n",
    "\n",
    "response = analyze_code(code_snippet)\n",
    "\n",
    "# print(response)\n",
    "Markdown(json_to_markdown(response))"
   ]
  },
  {
   "cell_type": "markdown",
   "id": "d02c9472",
   "metadata": {
    "papermill": {
     "duration": 0.008786,
     "end_time": "2025-04-20T17:20:16.628766",
     "exception": false,
     "start_time": "2025-04-20T17:20:16.619980",
     "status": "completed"
    },
    "tags": []
   },
   "source": [
    "## RAG Approach"
   ]
  },
  {
   "cell_type": "code",
   "execution_count": 15,
   "id": "4a5ea240",
   "metadata": {
    "execution": {
     "iopub.execute_input": "2025-04-20T17:20:16.648515Z",
     "iopub.status.busy": "2025-04-20T17:20:16.647851Z",
     "iopub.status.idle": "2025-04-20T17:20:16.666126Z",
     "shell.execute_reply": "2025-04-20T17:20:16.665279Z"
    },
    "papermill": {
     "duration": 0.029841,
     "end_time": "2025-04-20T17:20:16.667621",
     "exception": false,
     "start_time": "2025-04-20T17:20:16.637780",
     "status": "completed"
    },
    "tags": []
   },
   "outputs": [
    {
     "data": {
      "text/plain": [
       "['CVEFixes.csv', 'LICENSE.txt']"
      ]
     },
     "execution_count": 15,
     "metadata": {},
     "output_type": "execute_result"
    }
   ],
   "source": [
    "# Check if the dataset is available\n",
    "os.listdir('/kaggle/input/cvefixes-vulnerable-and-fixed-code/')"
   ]
  },
  {
   "cell_type": "code",
   "execution_count": 16,
   "id": "bfae9dd6",
   "metadata": {
    "execution": {
     "iopub.execute_input": "2025-04-20T17:20:16.688139Z",
     "iopub.status.busy": "2025-04-20T17:20:16.687799Z",
     "iopub.status.idle": "2025-04-20T17:20:58.085091Z",
     "shell.execute_reply": "2025-04-20T17:20:58.084160Z"
    },
    "papermill": {
     "duration": 41.418211,
     "end_time": "2025-04-20T17:20:58.095646",
     "exception": false,
     "start_time": "2025-04-20T17:20:16.677435",
     "status": "completed"
    },
    "tags": []
   },
   "outputs": [
    {
     "data": {
      "text/html": [
       "<div>\n",
       "<style scoped>\n",
       "    .dataframe tbody tr th:only-of-type {\n",
       "        vertical-align: middle;\n",
       "    }\n",
       "\n",
       "    .dataframe tbody tr th {\n",
       "        vertical-align: top;\n",
       "    }\n",
       "\n",
       "    .dataframe thead th {\n",
       "        text-align: right;\n",
       "    }\n",
       "</style>\n",
       "<table border=\"1\" class=\"dataframe\">\n",
       "  <thead>\n",
       "    <tr style=\"text-align: right;\">\n",
       "      <th></th>\n",
       "      <th>code</th>\n",
       "      <th>language</th>\n",
       "      <th>safety</th>\n",
       "    </tr>\n",
       "  </thead>\n",
       "  <tbody>\n",
       "    <tr>\n",
       "      <th>0</th>\n",
       "      <td>package org.bouncycastle.jcajce.provider.asymm...</td>\n",
       "      <td>java</td>\n",
       "      <td>vulnerable</td>\n",
       "    </tr>\n",
       "    <tr>\n",
       "      <th>1</th>\n",
       "      <td>&lt;?php\\n\\n\\n\\n/**\\n\\n * ownCloud - user_ldap\\n\\...</td>\n",
       "      <td>php</td>\n",
       "      <td>vulnerable</td>\n",
       "    </tr>\n",
       "    <tr>\n",
       "      <th>2</th>\n",
       "      <td>#!/usr/bin/env python\\n\\nfrom __future__ impor...</td>\n",
       "      <td>py</td>\n",
       "      <td>safe</td>\n",
       "    </tr>\n",
       "    <tr>\n",
       "      <th>3</th>\n",
       "      <td>/* -*- c-basic-offset: 8 -*-\\n\\n   rdesktop: A...</td>\n",
       "      <td>c</td>\n",
       "      <td>safe</td>\n",
       "    </tr>\n",
       "    <tr>\n",
       "      <th>4</th>\n",
       "      <td>&lt;!DOCTYPE html&gt;\\n\\n&lt;html&gt;\\n\\n    &lt;head&gt;\\n\\n   ...</td>\n",
       "      <td>html</td>\n",
       "      <td>safe</td>\n",
       "    </tr>\n",
       "  </tbody>\n",
       "</table>\n",
       "</div>"
      ],
      "text/plain": [
       "                                                code language      safety\n",
       "0  package org.bouncycastle.jcajce.provider.asymm...     java  vulnerable\n",
       "1  <?php\\n\\n\\n\\n/**\\n\\n * ownCloud - user_ldap\\n\\...      php  vulnerable\n",
       "2  #!/usr/bin/env python\\n\\nfrom __future__ impor...       py        safe\n",
       "3  /* -*- c-basic-offset: 8 -*-\\n\\n   rdesktop: A...        c        safe\n",
       "4  <!DOCTYPE html>\\n\\n<html>\\n\\n    <head>\\n\\n   ...     html        safe"
      ]
     },
     "execution_count": 16,
     "metadata": {},
     "output_type": "execute_result"
    }
   ],
   "source": [
    "# Load CVEFixes dataset containing vulnerable/fixed code pairs\n",
    "\n",
    "df = pd.read_csv(\"/kaggle/input/cvefixes-vulnerable-and-fixed-code/CVEFixes.csv\")\n",
    "df.head()"
   ]
  },
  {
   "cell_type": "code",
   "execution_count": 17,
   "id": "c635c29b",
   "metadata": {
    "execution": {
     "iopub.execute_input": "2025-04-20T17:20:58.115800Z",
     "iopub.status.busy": "2025-04-20T17:20:58.115473Z",
     "iopub.status.idle": "2025-04-20T17:20:58.456050Z",
     "shell.execute_reply": "2025-04-20T17:20:58.455039Z"
    },
    "papermill": {
     "duration": 0.353137,
     "end_time": "2025-04-20T17:20:58.458049",
     "exception": false,
     "start_time": "2025-04-20T17:20:58.104912",
     "status": "completed"
    },
    "tags": []
   },
   "outputs": [
    {
     "name": "stdout",
     "output_type": "stream",
     "text": [
      "models/embedding-001\n",
      "models/text-embedding-004\n",
      "models/gemini-embedding-exp-03-07\n",
      "models/gemini-embedding-exp\n"
     ]
    }
   ],
   "source": [
    "# List Gemini models supporting embeddings. \n",
    "# Future work: experiment with the others!\n",
    "\n",
    "for m in client.models.list():\n",
    "    if \"embedContent\" in m.supported_actions:\n",
    "        print(m.name)"
   ]
  },
  {
   "cell_type": "code",
   "execution_count": 18,
   "id": "507cb669",
   "metadata": {
    "execution": {
     "iopub.execute_input": "2025-04-20T17:20:58.494303Z",
     "iopub.status.busy": "2025-04-20T17:20:58.493903Z",
     "iopub.status.idle": "2025-04-20T17:20:59.821621Z",
     "shell.execute_reply": "2025-04-20T17:20:59.820793Z"
    },
    "papermill": {
     "duration": 1.348806,
     "end_time": "2025-04-20T17:20:59.823276",
     "exception": false,
     "start_time": "2025-04-20T17:20:58.474470",
     "status": "completed"
    },
    "tags": []
   },
   "outputs": [],
   "source": [
    "# Split dataset into train/test datasets.\n",
    "from sklearn.model_selection import train_test_split\n",
    "\n",
    "train_df, test_df = train_test_split(df, test_size=0.2, random_state=42)"
   ]
  },
  {
   "cell_type": "code",
   "execution_count": 19,
   "id": "96a0732c",
   "metadata": {
    "execution": {
     "iopub.execute_input": "2025-04-20T17:20:59.844349Z",
     "iopub.status.busy": "2025-04-20T17:20:59.843752Z",
     "iopub.status.idle": "2025-04-20T17:21:01.210959Z",
     "shell.execute_reply": "2025-04-20T17:21:01.210063Z"
    },
    "papermill": {
     "duration": 1.379077,
     "end_time": "2025-04-20T17:21:01.212367",
     "exception": false,
     "start_time": "2025-04-20T17:20:59.833290",
     "status": "completed"
    },
    "tags": []
   },
   "outputs": [
    {
     "data": {
      "text/html": [
       "<div>\n",
       "<style scoped>\n",
       "    .dataframe tbody tr th:only-of-type {\n",
       "        vertical-align: middle;\n",
       "    }\n",
       "\n",
       "    .dataframe tbody tr th {\n",
       "        vertical-align: top;\n",
       "    }\n",
       "\n",
       "    .dataframe thead th {\n",
       "        text-align: right;\n",
       "    }\n",
       "</style>\n",
       "<table border=\"1\" class=\"dataframe\">\n",
       "  <thead>\n",
       "    <tr style=\"text-align: right;\">\n",
       "      <th></th>\n",
       "      <th>safety</th>\n",
       "      <th>doc</th>\n",
       "    </tr>\n",
       "  </thead>\n",
       "  <tbody>\n",
       "    <tr>\n",
       "      <th>4223</th>\n",
       "      <td>safe</td>\n",
       "      <td>SAFE EXAMPLE\\n\\nCODE:\\n/*\\n\\n * Copyright (c) ...</td>\n",
       "    </tr>\n",
       "    <tr>\n",
       "      <th>18839</th>\n",
       "      <td>vulnerable</td>\n",
       "      <td>VULNERABLE EXAMPLE\\n\\nCODE:\\n2015-12-27  Even ...</td>\n",
       "    </tr>\n",
       "    <tr>\n",
       "      <th>24940</th>\n",
       "      <td>safe</td>\n",
       "      <td>SAFE EXAMPLE\\n\\nCODE:\\n&lt;?php\\n\\n# MantisBT - A...</td>\n",
       "    </tr>\n",
       "    <tr>\n",
       "      <th>8454</th>\n",
       "      <td>vulnerable</td>\n",
       "      <td>VULNERABLE EXAMPLE\\n\\nCODE:\\n/*\\n\\n * AEAD: Au...</td>\n",
       "    </tr>\n",
       "    <tr>\n",
       "      <th>28747</th>\n",
       "      <td>vulnerable</td>\n",
       "      <td>VULNERABLE EXAMPLE\\n\\nCODE:\\nAttic Changelog\\n...</td>\n",
       "    </tr>\n",
       "  </tbody>\n",
       "</table>\n",
       "</div>"
      ],
      "text/plain": [
       "           safety                                                doc\n",
       "4223         safe  SAFE EXAMPLE\\n\\nCODE:\\n/*\\n\\n * Copyright (c) ...\n",
       "18839  vulnerable  VULNERABLE EXAMPLE\\n\\nCODE:\\n2015-12-27  Even ...\n",
       "24940        safe  SAFE EXAMPLE\\n\\nCODE:\\n<?php\\n\\n# MantisBT - A...\n",
       "8454   vulnerable  VULNERABLE EXAMPLE\\n\\nCODE:\\n/*\\n\\n * AEAD: Au...\n",
       "28747  vulnerable  VULNERABLE EXAMPLE\\n\\nCODE:\\nAttic Changelog\\n..."
      ]
     },
     "execution_count": 19,
     "metadata": {},
     "output_type": "execute_result"
    }
   ],
   "source": [
    "# Clean + normalize\n",
    "# Not sure if this is needed\n",
    "\n",
    "train_df[\"language\"] = train_df[\"language\"].str.lower().str.strip()\n",
    "train_df[\"safety\"] = train_df[\"safety\"].str.lower().str.strip()\n",
    "train_df[\"code\"] = train_df[\"code\"].astype(str)\n",
    "\n",
    "\n",
    "test_df[\"language\"] = test_df[\"language\"].str.lower().str.strip()\n",
    "test_df[\"safety\"] = test_df[\"safety\"].str.lower().str.strip()\n",
    "test_df[\"code\"] = test_df[\"code\"].astype(str)\n",
    "\n",
    "\n",
    "# Limit with python for quick tests\n",
    "#df = df[df[\"language\"] == \"py\"].copy()\n",
    "\n",
    "# Confirm rows exist\n",
    "if train_df.empty:\n",
    "    raise ValueError(\"Still no Python rows found! check train_df!\")\n",
    "if test_df.empty:\n",
    "    raise ValueError(\"Still no Python rows found! check test_df!\")\n",
    "\n",
    "\n",
    "# Format docs for RAG\n",
    "# Not sure if this is needed\n",
    "def format_doc(row):\n",
    "    label = \"SAFE EXAMPLE\" if row[\"safety\"] == \"safe\" else \"VULNERABLE EXAMPLE\"\n",
    "    return f\"{label}\\n\\nCODE:\\n{row['code']}\"\n",
    "\n",
    "train_df[\"doc\"] = train_df.apply(format_doc, axis=1)\n",
    "\n",
    "# Show preview\n",
    "train_df[[\"safety\", \"doc\"]].head()"
   ]
  },
  {
   "cell_type": "code",
   "execution_count": 20,
   "id": "4b21e33a",
   "metadata": {
    "execution": {
     "iopub.execute_input": "2025-04-20T17:21:01.233018Z",
     "iopub.status.busy": "2025-04-20T17:21:01.232652Z",
     "iopub.status.idle": "2025-04-20T17:21:01.244288Z",
     "shell.execute_reply": "2025-04-20T17:21:01.243380Z"
    },
    "papermill": {
     "duration": 0.02363,
     "end_time": "2025-04-20T17:21:01.245746",
     "exception": false,
     "start_time": "2025-04-20T17:21:01.222116",
     "status": "completed"
    },
    "tags": []
   },
   "outputs": [
    {
     "data": {
      "text/html": [
       "<div>\n",
       "<style scoped>\n",
       "    .dataframe tbody tr th:only-of-type {\n",
       "        vertical-align: middle;\n",
       "    }\n",
       "\n",
       "    .dataframe tbody tr th {\n",
       "        vertical-align: top;\n",
       "    }\n",
       "\n",
       "    .dataframe thead th {\n",
       "        text-align: right;\n",
       "    }\n",
       "</style>\n",
       "<table border=\"1\" class=\"dataframe\">\n",
       "  <thead>\n",
       "    <tr style=\"text-align: right;\">\n",
       "      <th></th>\n",
       "      <th>safety</th>\n",
       "      <th>code</th>\n",
       "    </tr>\n",
       "  </thead>\n",
       "  <tbody>\n",
       "    <tr>\n",
       "      <th>20087</th>\n",
       "      <td>vulnerable</td>\n",
       "      <td>&lt;?php\\n\\n\\n\\n// Init owncloud\\n\\nrequire_once(...</td>\n",
       "    </tr>\n",
       "    <tr>\n",
       "      <th>14931</th>\n",
       "      <td>vulnerable</td>\n",
       "      <td>/*  Prototype JavaScript framework, version 1....</td>\n",
       "    </tr>\n",
       "    <tr>\n",
       "      <th>8029</th>\n",
       "      <td>vulnerable</td>\n",
       "      <td>/* FriBidi\\n\\n * fribidi-bidi.c - bidirectiona...</td>\n",
       "    </tr>\n",
       "    <tr>\n",
       "      <th>23270</th>\n",
       "      <td>safe</td>\n",
       "      <td>&lt;?php\\n\\n\\n\\n/**\\n\\n* ownCloud\\n\\n*\\n\\n* @auth...</td>\n",
       "    </tr>\n",
       "    <tr>\n",
       "      <th>19847</th>\n",
       "      <td>safe</td>\n",
       "      <td>/*\\n\\n * Copyright (c) 2001-2003 Michael David...</td>\n",
       "    </tr>\n",
       "  </tbody>\n",
       "</table>\n",
       "</div>"
      ],
      "text/plain": [
       "           safety                                               code\n",
       "20087  vulnerable  <?php\\n\\n\\n\\n// Init owncloud\\n\\nrequire_once(...\n",
       "14931  vulnerable  /*  Prototype JavaScript framework, version 1....\n",
       "8029   vulnerable  /* FriBidi\\n\\n * fribidi-bidi.c - bidirectiona...\n",
       "23270        safe  <?php\\n\\n\\n\\n/**\\n\\n* ownCloud\\n\\n*\\n\\n* @auth...\n",
       "19847        safe  /*\\n\\n * Copyright (c) 2001-2003 Michael David..."
      ]
     },
     "execution_count": 20,
     "metadata": {},
     "output_type": "execute_result"
    }
   ],
   "source": [
    "# Confirm test_df & show preview\n",
    "\n",
    "test_df[[\"safety\", \"code\"]].head()"
   ]
  },
  {
   "cell_type": "code",
   "execution_count": 21,
   "id": "db5ad96c",
   "metadata": {
    "execution": {
     "iopub.execute_input": "2025-04-20T17:21:01.267254Z",
     "iopub.status.busy": "2025-04-20T17:21:01.266522Z",
     "iopub.status.idle": "2025-04-20T17:21:01.272757Z",
     "shell.execute_reply": "2025-04-20T17:21:01.272013Z"
    },
    "papermill": {
     "duration": 0.018384,
     "end_time": "2025-04-20T17:21:01.274254",
     "exception": false,
     "start_time": "2025-04-20T17:21:01.255870",
     "status": "completed"
    },
    "tags": []
   },
   "outputs": [],
   "source": [
    "# Define a helper to retry when per-minute quota is reached.\n",
    "is_retriable = lambda e: (isinstance(e, genai.errors.APIError) and e.code in {429, 503})\n",
    "\n",
    "\n",
    "class GeminiEmbeddingFunction(EmbeddingFunction):\n",
    "    # Specify whether to generate embeddings for documents, or queries\n",
    "    document_mode = True\n",
    "\n",
    "    @retry.Retry(predicate=is_retriable)\n",
    "    def __call__(self, input: Documents) -> Embeddings:\n",
    "        if self.document_mode:\n",
    "            embedding_task = \"retrieval_document\"\n",
    "        else:\n",
    "            embedding_task = \"retrieval_query\"\n",
    "\n",
    "        response = client.models.embed_content(\n",
    "            model=\"models/embedding-001\",\n",
    "            contents=input,\n",
    "            config=types.EmbedContentConfig(\n",
    "                task_type=embedding_task,\n",
    "            ),\n",
    "        )\n",
    "        return [e.values for e in response.embeddings]"
   ]
  },
  {
   "cell_type": "code",
   "execution_count": 22,
   "id": "a9d566e2",
   "metadata": {
    "execution": {
     "iopub.execute_input": "2025-04-20T17:21:01.294928Z",
     "iopub.status.busy": "2025-04-20T17:21:01.294578Z",
     "iopub.status.idle": "2025-04-20T17:21:01.600541Z",
     "shell.execute_reply": "2025-04-20T17:21:01.599804Z"
    },
    "papermill": {
     "duration": 0.318094,
     "end_time": "2025-04-20T17:21:01.602170",
     "exception": false,
     "start_time": "2025-04-20T17:21:01.284076",
     "status": "completed"
    },
    "tags": []
   },
   "outputs": [],
   "source": [
    "# Truncates documents that are too long to avoid embedding errors\n",
    "# This is to fix max bytes in request error.\n",
    "\n",
    "MAX_LEN = 10000  # chars\n",
    "#train_df = train_df[train_df[\"doc\"].str.len() < MAX_LEN].copy() # this completely removes it\n",
    "train_df[\"doc\"] = train_df[\"doc\"].str.slice(0, MAX_LEN) #just truncates it\n",
    "documents = train_df[\"doc\"]\n",
    "metadatas = train_df[\"safety\"].apply(lambda x: {\"safety\": x})"
   ]
  },
  {
   "cell_type": "code",
   "execution_count": 23,
   "id": "16212038",
   "metadata": {
    "execution": {
     "iopub.execute_input": "2025-04-20T17:21:01.623203Z",
     "iopub.status.busy": "2025-04-20T17:21:01.622876Z",
     "iopub.status.idle": "2025-04-20T17:27:19.573318Z",
     "shell.execute_reply": "2025-04-20T17:27:19.572272Z"
    },
    "papermill": {
     "duration": 377.963308,
     "end_time": "2025-04-20T17:27:19.575397",
     "exception": false,
     "start_time": "2025-04-20T17:21:01.612089",
     "status": "completed"
    },
    "tags": []
   },
   "outputs": [
    {
     "name": "stdout",
     "output_type": "stream",
     "text": [
      "Batch: 0 --> 100\n",
      "Batch: 1000 --> 1100\n",
      "Batch: 2000 --> 2100\n",
      "Batch: 3000 --> 3100\n",
      "Batch: 4000 --> 4100\n",
      "Batch: 5000 --> 5100\n",
      "Batch: 6000 --> 6100\n",
      "Batch: 7000 --> 7100\n",
      "Batch: 8000 --> 8100\n",
      "Batch: 9000 --> 9100\n",
      "Batch: 10000 --> 10100\n",
      "Batch: 11000 --> 11100\n",
      "Batch: 12000 --> 12100\n",
      "Batch: 13000 --> 13100\n",
      "Batch: 14000 --> 14100\n",
      "Batch: 15000 --> 15100\n",
      "Batch: 16000 --> 16100\n",
      "Batch: 17000 --> 17100\n",
      "Batch: 18000 --> 18100\n",
      "Batch: 19000 --> 19100\n",
      "Batch: 20000 --> 20100\n",
      "Batch: 21000 --> 21100\n",
      "Batch: 22000 --> 22100\n",
      "Batch: 23000 --> 23100\n",
      "Batch: 24000 --> 24100\n",
      "Batch: 24900 --> 24955\n"
     ]
    }
   ],
   "source": [
    "DB_NAME = \"test1\"\n",
    "\n",
    "embed_fn = GeminiEmbeddingFunction()\n",
    "embed_fn.document_mode = True\n",
    "\n",
    "chroma_client = chromadb.Client()\n",
    "db = chroma_client.get_or_create_collection(name=DB_NAME, embedding_function=embed_fn)\n",
    "\n",
    "step = 100\n",
    "for start in range(0, len(documents), step):\n",
    "    end = min(start + step, len(documents))\n",
    "    if start % 1000 == 0 or end == len(documents):\n",
    "        print(f\"Batch: {start} --> {end}\")\n",
    "\n",
    "    docs_test = documents[start:end].tolist()\n",
    "    ids = [str(i) for i in range(start, end)]\n",
    "    metadata_batch = metadatas[start:end].tolist()\n",
    "#    metadata_batch = metadatas[start:end]\n",
    "#    print(metadata_batch)\n",
    "#    db.add(documents=docs_test, ids=ids, metadatas=metadata_batch) \n",
    "    try:\n",
    "        db.add(documents=docs_test, ids=ids, metadatas=metadata_batch)\n",
    "    except Exception as e:\n",
    "        print(f\"Error in batch {start}-{end}: {e}\")"
   ]
  },
  {
   "cell_type": "code",
   "execution_count": 24,
   "id": "4334a788",
   "metadata": {
    "execution": {
     "iopub.execute_input": "2025-04-20T17:27:19.600199Z",
     "iopub.status.busy": "2025-04-20T17:27:19.599871Z",
     "iopub.status.idle": "2025-04-20T17:27:19.610595Z",
     "shell.execute_reply": "2025-04-20T17:27:19.609855Z"
    },
    "papermill": {
     "duration": 0.024094,
     "end_time": "2025-04-20T17:27:19.612119",
     "exception": false,
     "start_time": "2025-04-20T17:27:19.588025",
     "status": "completed"
    },
    "tags": []
   },
   "outputs": [
    {
     "data": {
      "text/plain": [
       "24955"
      ]
     },
     "execution_count": 24,
     "metadata": {},
     "output_type": "execute_result"
    }
   ],
   "source": [
    "# Sanity-check: count how many documents were added to ChromaDB\n",
    "db.count()"
   ]
  },
  {
   "cell_type": "code",
   "execution_count": 25,
   "id": "9611cc92",
   "metadata": {
    "execution": {
     "iopub.execute_input": "2025-04-20T17:27:19.635230Z",
     "iopub.status.busy": "2025-04-20T17:27:19.634775Z",
     "iopub.status.idle": "2025-04-20T17:27:19.880805Z",
     "shell.execute_reply": "2025-04-20T17:27:19.879808Z"
    },
    "papermill": {
     "duration": 0.25925,
     "end_time": "2025-04-20T17:27:19.882240",
     "exception": false,
     "start_time": "2025-04-20T17:27:19.622990",
     "status": "completed"
    },
    "tags": []
   },
   "outputs": [
    {
     "name": "stdout",
     "output_type": "stream",
     "text": [
      "[['VULNERABLE EXAMPLE\\n\\nCODE:\\n404: Not Found']]\n"
     ]
    }
   ],
   "source": [
    "# Switch to query mode when generating embeddings.\n",
    "embed_fn.document_mode = False\n",
    "\n",
    "# Search the Chroma DB using an example query.\n",
    "query = \"select\"\n",
    "\n",
    "result = db.query(query_texts=[query], n_results=1)\n",
    "print(result[\"documents\"])"
   ]
  },
  {
   "cell_type": "code",
   "execution_count": 26,
   "id": "bab4b3ff",
   "metadata": {
    "execution": {
     "iopub.execute_input": "2025-04-20T17:27:19.905693Z",
     "iopub.status.busy": "2025-04-20T17:27:19.905420Z",
     "iopub.status.idle": "2025-04-20T17:27:19.911604Z",
     "shell.execute_reply": "2025-04-20T17:27:19.910897Z"
    },
    "papermill": {
     "duration": 0.019549,
     "end_time": "2025-04-20T17:27:19.912972",
     "exception": false,
     "start_time": "2025-04-20T17:27:19.893423",
     "status": "completed"
    },
    "tags": []
   },
   "outputs": [],
   "source": [
    "# Function to analyze given code snippet using RAG approach\n",
    "\n",
    "def analyze_code_with_rag(code_snippet: str, k: int = 3) -> dict:\n",
    "    # Step 1: Query similar examples\n",
    "    embed_fn.document_mode = False  # Query mode\n",
    "    results = db.query(query_texts=[code_snippet], n_results=k)\n",
    "\n",
    "    retrieved_examples = results[\"documents\"][0]\n",
    "    context_examples = \"\\n\\n---\\n\\n\".join(retrieved_examples)\n",
    "\n",
    "    # Step 2: Build a prompt\n",
    "    prompt = f\"\"\"\n",
    "    You are Lintelligence, an AI assistant that helps developers write secure code. Below is a code snippet to analyze:{code_snippet}\n",
    "    Here are {k} similar examples from real-world open-source code (some may be vulnerable, others may be safe): {context_examples}\n",
    "    Your job is to identify actual security vulnerabilities in the new code. ONLY flag an issue if the code:\n",
    "    Uses insecure practices (e.g., direct input injection, weak encryption, unsafe deserialization)\n",
    "    Fails to follow common secure coding principles\n",
    "    Is not using known safe patterns (e.g., parameterized queries, escaping)\n",
    "    If the code is secure, DO NOT flag it. Confirm that it is safe instead.\n",
    "    \"\"\"\n",
    "    config = types.GenerateContentConfig(temperature=0.0)\n",
    "    raw_response = client.models.generate_content(\n",
    "      model='gemini-2.0-flash',\n",
    "      config=config,\n",
    "      contents=SYSTEM_PROMPT+prompt\n",
    "    )\n",
    "    raw_text = raw_response.text.strip()\n",
    "    cleaned_text = safe_json_parse(raw_text)\n",
    "\n",
    "    return cleaned_text"
   ]
  },
  {
   "cell_type": "markdown",
   "id": "a393430b",
   "metadata": {
    "papermill": {
     "duration": 0.011049,
     "end_time": "2025-04-20T17:27:19.935086",
     "exception": false,
     "start_time": "2025-04-20T17:27:19.924037",
     "status": "completed"
    },
    "tags": []
   },
   "source": [
    "Simple test cases; just to see if it works:"
   ]
  },
  {
   "cell_type": "code",
   "execution_count": 27,
   "id": "c1cfe1eb",
   "metadata": {
    "execution": {
     "iopub.execute_input": "2025-04-20T17:27:19.959105Z",
     "iopub.status.busy": "2025-04-20T17:27:19.958380Z",
     "iopub.status.idle": "2025-04-20T17:27:21.963897Z",
     "shell.execute_reply": "2025-04-20T17:27:21.962884Z"
    },
    "papermill": {
     "duration": 2.019292,
     "end_time": "2025-04-20T17:27:21.965279",
     "exception": false,
     "start_time": "2025-04-20T17:27:19.945987",
     "status": "completed"
    },
    "tags": []
   },
   "outputs": [
    {
     "data": {
      "text/markdown": [
       "\n",
       "### 🛡️ Vulnerability: SQL Injection\n",
       "\n",
       "### 🚨 Severity: High\n",
       "\n",
       "---\n",
       "\n",
       "#### ❗ Explanation  \n",
       "The code directly concatenates the user-provided `search` parameter into the SQL query string without any sanitization or escaping. This allows an attacker to inject arbitrary SQL code by crafting a malicious input string.\n",
       "\n",
       "---\n",
       "\n",
       "#### 🧠 Impact:\n",
       "A successful SQL injection attack can allow an attacker to bypass authentication, read sensitive data, modify data, execute administrative operations, recover the content of a given file present on the DBMS file system and in some cases issue commands to the operating system.\n",
       "\n",
       "---\n",
       "\n",
       "#### ✅ Suggested Fix  \n",
       "python\n",
       "search = request.args.get(\"q\")\n",
       "query = \"SELECT * FROM users WHERE name = %s\"\n",
       "cursor.execute(query, (search,))\n",
       "\n",
       "\n",
       "---\n",
       "\n",
       "#### 🔍 Fix Explanation  \n",
       "Using parameterized queries (also known as prepared statements) ensures that the input is treated as data, not as part of the SQL command. The database driver handles the proper escaping and quoting of the input, preventing SQL injection vulnerabilities.\n"
      ],
      "text/plain": [
       "<IPython.core.display.Markdown object>"
      ]
     },
     "execution_count": 27,
     "metadata": {},
     "output_type": "execute_result"
    }
   ],
   "source": [
    "vulnerable_code = \"\"\"\n",
    "search = request.args.get(\"q\")\n",
    "query = \"SELECT * FROM users WHERE name = '\" + search + \"'\"\n",
    "cursor.execute(query)\n",
    "\"\"\"\n",
    "\n",
    "response = analyze_code_with_rag(vulnerable_code, k=3)\n",
    "Markdown(json_to_markdown(response))"
   ]
  },
  {
   "cell_type": "code",
   "execution_count": 28,
   "id": "d9f23a59",
   "metadata": {
    "execution": {
     "iopub.execute_input": "2025-04-20T17:27:21.988978Z",
     "iopub.status.busy": "2025-04-20T17:27:21.988221Z",
     "iopub.status.idle": "2025-04-20T17:27:22.847234Z",
     "shell.execute_reply": "2025-04-20T17:27:22.846278Z"
    },
    "papermill": {
     "duration": 0.872285,
     "end_time": "2025-04-20T17:27:22.848680",
     "exception": false,
     "start_time": "2025-04-20T17:27:21.976395",
     "status": "completed"
    },
    "tags": []
   },
   "outputs": [
    {
     "data": {
      "text/markdown": [
       "No security issues found in the provided code."
      ],
      "text/plain": [
       "<IPython.core.display.Markdown object>"
      ]
     },
     "execution_count": 28,
     "metadata": {},
     "output_type": "execute_result"
    }
   ],
   "source": [
    "safe_code_example = \"\"\"\n",
    "import sqlite3\n",
    "from flask import request\n",
    "\n",
    "conn = sqlite3.connect(\"users.db\")\n",
    "cursor = conn.cursor()\n",
    "\n",
    "username = request.args.get(\"username\")\n",
    "cursor.execute(\"SELECT * FROM users WHERE username = ?\", (username,))\n",
    "\n",
    "user_data = cursor.fetchone()\n",
    "print(user_data)\n",
    "\n",
    "conn.close()\n",
    "\"\"\"\n",
    "\n",
    "response = analyze_code_with_rag(safe_code_example,k=3)\n",
    "Markdown(json_to_markdown(response))"
   ]
  },
  {
   "cell_type": "markdown",
   "id": "b0e64786",
   "metadata": {
    "papermill": {
     "duration": 0.010929,
     "end_time": "2025-04-20T17:27:22.870919",
     "exception": false,
     "start_time": "2025-04-20T17:27:22.859990",
     "status": "completed"
    },
    "tags": []
   },
   "source": [
    "## Evaluation\n",
    "In this section, we evaluate the performance of each approach"
   ]
  },
  {
   "cell_type": "code",
   "execution_count": 29,
   "id": "e940926a",
   "metadata": {
    "execution": {
     "iopub.execute_input": "2025-04-20T17:27:22.896173Z",
     "iopub.status.busy": "2025-04-20T17:27:22.895857Z",
     "iopub.status.idle": "2025-04-20T17:27:22.900910Z",
     "shell.execute_reply": "2025-04-20T17:27:22.900119Z"
    },
    "papermill": {
     "duration": 0.018851,
     "end_time": "2025-04-20T17:27:22.902203",
     "exception": false,
     "start_time": "2025-04-20T17:27:22.883352",
     "status": "completed"
    },
    "tags": []
   },
   "outputs": [
    {
     "data": {
      "text/plain": [
       "6239"
      ]
     },
     "execution_count": 29,
     "metadata": {},
     "output_type": "execute_result"
    }
   ],
   "source": [
    "# The number of records we have in test dataset:\n",
    "\n",
    "len(test_df)"
   ]
  },
  {
   "cell_type": "code",
   "execution_count": 30,
   "id": "cc02909c",
   "metadata": {
    "execution": {
     "iopub.execute_input": "2025-04-20T17:27:22.925862Z",
     "iopub.status.busy": "2025-04-20T17:27:22.925557Z",
     "iopub.status.idle": "2025-04-20T17:27:22.936129Z",
     "shell.execute_reply": "2025-04-20T17:27:22.935300Z"
    },
    "papermill": {
     "duration": 0.023972,
     "end_time": "2025-04-20T17:27:22.937417",
     "exception": false,
     "start_time": "2025-04-20T17:27:22.913445",
     "status": "completed"
    },
    "tags": []
   },
   "outputs": [
    {
     "data": {
      "text/plain": [
       "safety\n",
       "vulnerable    3139\n",
       "safe          3100\n",
       "Name: count, dtype: int64"
      ]
     },
     "execution_count": 30,
     "metadata": {},
     "output_type": "execute_result"
    }
   ],
   "source": [
    "# Counts of each unique label\n",
    "test_df[\"safety\"].value_counts()"
   ]
  },
  {
   "cell_type": "code",
   "execution_count": 31,
   "id": "aa5fc264",
   "metadata": {
    "execution": {
     "iopub.execute_input": "2025-04-20T17:27:22.961394Z",
     "iopub.status.busy": "2025-04-20T17:27:22.961114Z",
     "iopub.status.idle": "2025-04-20T17:27:22.965578Z",
     "shell.execute_reply": "2025-04-20T17:27:22.964659Z"
    },
    "papermill": {
     "duration": 0.017937,
     "end_time": "2025-04-20T17:27:22.966930",
     "exception": false,
     "start_time": "2025-04-20T17:27:22.948993",
     "status": "completed"
    },
    "tags": []
   },
   "outputs": [],
   "source": [
    "from sklearn.metrics import confusion_matrix, classification_report"
   ]
  },
  {
   "cell_type": "markdown",
   "id": "809b3012",
   "metadata": {
    "papermill": {
     "duration": 0.010838,
     "end_time": "2025-04-20T17:27:22.989107",
     "exception": false,
     "start_time": "2025-04-20T17:27:22.978269",
     "status": "completed"
    },
    "tags": []
   },
   "source": [
    "### Evaluation of Few-Shot-Prompting Approach:"
   ]
  },
  {
   "cell_type": "code",
   "execution_count": 32,
   "id": "4ff3cc62",
   "metadata": {
    "execution": {
     "iopub.execute_input": "2025-04-20T17:27:23.013789Z",
     "iopub.status.busy": "2025-04-20T17:27:23.013481Z",
     "iopub.status.idle": "2025-04-20T17:33:33.260840Z",
     "shell.execute_reply": "2025-04-20T17:33:33.259994Z"
    },
    "papermill": {
     "duration": 370.261723,
     "end_time": "2025-04-20T17:33:33.262390",
     "exception": false,
     "start_time": "2025-04-20T17:27:23.000667",
     "status": "completed"
    },
    "tags": []
   },
   "outputs": [
    {
     "name": "stderr",
     "output_type": "stream",
     "text": [
      "100it [06:10,  3.70s/it]"
     ]
    },
    {
     "name": "stdout",
     "output_type": "stream",
     "text": [
      "Accuracy: 46/92 = 0.50\n",
      "Invalid: 8\n"
     ]
    },
    {
     "name": "stderr",
     "output_type": "stream",
     "text": [
      "\n"
     ]
    }
   ],
   "source": [
    "correct = 0\n",
    "false = 0\n",
    "total = 0\n",
    "invalid = 0\n",
    "\n",
    "y_true = []\n",
    "y_pred = []\n",
    "\n",
    "for _, row in tqdm(test_df.sample(100).iterrows()):  # small test set, it takes too long with free API\n",
    "    label = row[\"safety\"]\n",
    "    code = row[\"code\"]\n",
    "    pred = \"\"\n",
    "    response = analyze_code(code)\n",
    "    \n",
    "    #if response is not valid, don't count it.\n",
    "    if \"vulnerability\" not in response and \"message\" not in response:\n",
    "        # print(\"Missing 'vulnerability' key and 'message'. Skipping...\")\n",
    "        # print(f\"DEBUG: {response}\")\n",
    "        invalid += 1\n",
    "        continue\n",
    "\n",
    "    # Decide prediction\n",
    "    if response.get(\"message\") and \"no security issues found\" in response[\"message\"].lower():\n",
    "        pred = \"safe\"\n",
    "    elif response.get(\"vulnerability\"):  # Any vulnerability listed = vulnerable\n",
    "        pred = \"vulnerable\"\n",
    "    else:\n",
    "        print(f\"Error parsing results.\")\n",
    "        invalid += 1\n",
    "        continue\n",
    "\n",
    "    y_true.append(label)\n",
    "    y_pred.append(pred)\n",
    "\n",
    "    if label == pred:\n",
    "        correct += 1\n",
    "    elif label != pred:\n",
    "        false += 1\n",
    "    \n",
    "    # print(f\"Label: {label} --> Prediction: {pred}\")\n",
    "    total += 1\n",
    "\n",
    "\n",
    "print(f\"Accuracy: {correct}/{total} = {correct/total:.2f}\")\n",
    "print(f\"Invalid: {invalid}\")"
   ]
  },
  {
   "cell_type": "code",
   "execution_count": 33,
   "id": "f3201056",
   "metadata": {
    "execution": {
     "iopub.execute_input": "2025-04-20T17:33:33.297703Z",
     "iopub.status.busy": "2025-04-20T17:33:33.296679Z",
     "iopub.status.idle": "2025-04-20T17:33:33.310114Z",
     "shell.execute_reply": "2025-04-20T17:33:33.309171Z"
    },
    "papermill": {
     "duration": 0.032747,
     "end_time": "2025-04-20T17:33:33.311521",
     "exception": false,
     "start_time": "2025-04-20T17:33:33.278774",
     "status": "completed"
    },
    "tags": []
   },
   "outputs": [
    {
     "name": "stdout",
     "output_type": "stream",
     "text": [
      "\n",
      "Classification Report:\n",
      "              precision    recall  f1-score   support\n",
      "\n",
      "        safe       0.57      0.57      0.57        53\n",
      "  vulnerable       0.41      0.41      0.41        39\n",
      "\n",
      "    accuracy                           0.50        92\n",
      "   macro avg       0.49      0.49      0.49        92\n",
      "weighted avg       0.50      0.50      0.50        92\n",
      "\n"
     ]
    }
   ],
   "source": [
    "if total > 0:\n",
    "    labels = [\"safe\", \"vulnerable\"]\n",
    "    print(\"\\nClassification Report:\")\n",
    "    print(classification_report(y_true, y_pred, target_names=labels))"
   ]
  },
  {
   "cell_type": "markdown",
   "id": "e87cdc37",
   "metadata": {
    "papermill": {
     "duration": 0.015585,
     "end_time": "2025-04-20T17:33:33.343125",
     "exception": false,
     "start_time": "2025-04-20T17:33:33.327540",
     "status": "completed"
    },
    "tags": []
   },
   "source": [
    "### Evaluation of RAG Approach:"
   ]
  },
  {
   "cell_type": "code",
   "execution_count": 34,
   "id": "f14eb4b6",
   "metadata": {
    "execution": {
     "iopub.execute_input": "2025-04-20T17:33:33.376513Z",
     "iopub.status.busy": "2025-04-20T17:33:33.376186Z",
     "iopub.status.idle": "2025-04-20T17:39:50.032230Z",
     "shell.execute_reply": "2025-04-20T17:39:50.031058Z"
    },
    "papermill": {
     "duration": 376.674479,
     "end_time": "2025-04-20T17:39:50.033670",
     "exception": false,
     "start_time": "2025-04-20T17:33:33.359191",
     "status": "completed"
    },
    "tags": []
   },
   "outputs": [
    {
     "name": "stderr",
     "output_type": "stream",
     "text": [
      "100it [06:16,  3.77s/it]"
     ]
    },
    {
     "name": "stdout",
     "output_type": "stream",
     "text": [
      "Accuracy: 55/98 = 0.56\n",
      "Invalid: 2\n"
     ]
    },
    {
     "name": "stderr",
     "output_type": "stream",
     "text": [
      "\n"
     ]
    }
   ],
   "source": [
    "correct = 0\n",
    "false = 0\n",
    "total = 0\n",
    "invalid = 0\n",
    "\n",
    "y_true = []\n",
    "y_pred = []\n",
    "\n",
    "for _, row in tqdm(test_df.sample(100).iterrows()):  # small test set, it takes too long with free API\n",
    "    label = row[\"safety\"]\n",
    "    code = row[\"code\"]\n",
    "    pred = \"\"\n",
    "    response = analyze_code_with_rag(code)\n",
    "    \n",
    "    #if response is not valid, don't count it.\n",
    "    if \"vulnerability\" not in response and \"message\" not in response:\n",
    "        # print(\"Missing 'vulnerability' key and 'message'. Skipping...\")\n",
    "        # print(f\"DEBUG: {response}\")\n",
    "        invalid += 1\n",
    "        continue\n",
    "\n",
    "    # Decide prediction\n",
    "    if response.get(\"message\") and \"no security issues found\" in response[\"message\"].lower():\n",
    "        pred = \"safe\"\n",
    "    elif response.get(\"vulnerability\"):  # Any vulnerability listed = vulnerable\n",
    "        pred = \"vulnerable\"\n",
    "    else:\n",
    "        print(f\"Error parsing results.\")\n",
    "        invalid += 1\n",
    "        continue\n",
    "\n",
    "    y_true.append(label)\n",
    "    y_pred.append(pred)\n",
    "\n",
    "    if label == pred:\n",
    "        correct += 1\n",
    "    elif label != pred:\n",
    "        false += 1\n",
    "    \n",
    "    # print(f\"Label: {label} --> Prediction: {pred}\")\n",
    "    total += 1\n",
    "\n",
    "\n",
    "print(f\"Accuracy: {correct}/{total} = {correct/total:.2f}\")\n",
    "print(f\"Invalid: {invalid}\")"
   ]
  },
  {
   "cell_type": "code",
   "execution_count": 35,
   "id": "2a342166",
   "metadata": {
    "execution": {
     "iopub.execute_input": "2025-04-20T17:39:50.077574Z",
     "iopub.status.busy": "2025-04-20T17:39:50.077240Z",
     "iopub.status.idle": "2025-04-20T17:39:50.089995Z",
     "shell.execute_reply": "2025-04-20T17:39:50.088973Z"
    },
    "papermill": {
     "duration": 0.036685,
     "end_time": "2025-04-20T17:39:50.091473",
     "exception": false,
     "start_time": "2025-04-20T17:39:50.054788",
     "status": "completed"
    },
    "tags": []
   },
   "outputs": [
    {
     "name": "stdout",
     "output_type": "stream",
     "text": [
      "\n",
      "Classification Report:\n",
      "              precision    recall  f1-score   support\n",
      "\n",
      "        safe       0.58      0.68      0.63        53\n",
      "  vulnerable       0.53      0.42      0.47        45\n",
      "\n",
      "    accuracy                           0.56        98\n",
      "   macro avg       0.55      0.55      0.55        98\n",
      "weighted avg       0.56      0.56      0.55        98\n",
      "\n"
     ]
    }
   ],
   "source": [
    "if total > 0:\n",
    "    labels = [\"safe\", \"vulnerable\"]\n",
    "    print(\"\\nClassification Report:\")\n",
    "    print(classification_report(y_true, y_pred, target_names=labels))"
   ]
  }
 ],
 "metadata": {
  "kaggle": {
   "accelerator": "none",
   "dataSources": [
    {
     "datasetId": 3399419,
     "sourceId": 5919472,
     "sourceType": "datasetVersion"
    }
   ],
   "dockerImageVersionId": 31012,
   "isGpuEnabled": false,
   "isInternetEnabled": true,
   "language": "python",
   "sourceType": "notebook"
  },
  "kernelspec": {
   "display_name": "Python 3",
   "language": "python",
   "name": "python3"
  },
  "language_info": {
   "codemirror_mode": {
    "name": "ipython",
    "version": 3
   },
   "file_extension": ".py",
   "mimetype": "text/x-python",
   "name": "python",
   "nbconvert_exporter": "python",
   "pygments_lexer": "ipython3",
   "version": "3.11.11"
  },
  "papermill": {
   "default_parameters": {},
   "duration": 1230.574088,
   "end_time": "2025-04-20T17:39:52.552975",
   "environment_variables": {},
   "exception": null,
   "input_path": "__notebook__.ipynb",
   "output_path": "__notebook__.ipynb",
   "parameters": {},
   "start_time": "2025-04-20T17:19:21.978887",
   "version": "2.6.0"
  }
 },
 "nbformat": 4,
 "nbformat_minor": 5
}
